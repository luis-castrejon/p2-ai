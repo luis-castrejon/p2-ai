{
 "cells": [
  {
   "cell_type": "markdown",
   "metadata": {},
   "source": [
    "# Filtrado\n",
    "\n",
    "## Mensajes Sexistas\n",
    "\n",
    "Primero realizamos un filtrado sobre los datos de nuestro *dataset* de mensajes de sexismo; para lo cual, cargamos la informacion haciendo uso de `pandas`"
   ]
  },
  {
   "cell_type": "code",
   "execution_count": 22,
   "metadata": {},
   "outputs": [
    {
     "data": {
      "text/html": [
       "<div>\n",
       "<style scoped>\n",
       "    .dataframe tbody tr th:only-of-type {\n",
       "        vertical-align: middle;\n",
       "    }\n",
       "\n",
       "    .dataframe tbody tr th {\n",
       "        vertical-align: top;\n",
       "    }\n",
       "\n",
       "    .dataframe thead th {\n",
       "        text-align: right;\n",
       "    }\n",
       "</style>\n",
       "<table border=\"1\" class=\"dataframe\">\n",
       "  <thead>\n",
       "    <tr style=\"text-align: right;\">\n",
       "      <th></th>\n",
       "      <th>id</th>\n",
       "      <th>dataset</th>\n",
       "      <th>text</th>\n",
       "      <th>toxicity</th>\n",
       "      <th>sexist</th>\n",
       "      <th>of_id</th>\n",
       "    </tr>\n",
       "  </thead>\n",
       "  <tbody>\n",
       "    <tr>\n",
       "      <th>0</th>\n",
       "      <td>0</td>\n",
       "      <td>other</td>\n",
       "      <td>MENTION3481 i didn't even know random was an o...</td>\n",
       "      <td>0.118180</td>\n",
       "      <td>False</td>\n",
       "      <td>-1</td>\n",
       "    </tr>\n",
       "    <tr>\n",
       "      <th>1</th>\n",
       "      <td>1</td>\n",
       "      <td>other</td>\n",
       "      <td>Bottom two should've gone!  #mkr</td>\n",
       "      <td>0.251850</td>\n",
       "      <td>False</td>\n",
       "      <td>-1</td>\n",
       "    </tr>\n",
       "    <tr>\n",
       "      <th>2</th>\n",
       "      <td>2</td>\n",
       "      <td>callme</td>\n",
       "      <td>MENTION3111 MENTION3424 ladyboner deserves so ...</td>\n",
       "      <td>0.113331</td>\n",
       "      <td>False</td>\n",
       "      <td>-1</td>\n",
       "    </tr>\n",
       "    <tr>\n",
       "      <th>3</th>\n",
       "      <td>3</td>\n",
       "      <td>other</td>\n",
       "      <td>She shall now be known as Sourpuss #MKR #KatAn...</td>\n",
       "      <td>0.531153</td>\n",
       "      <td>False</td>\n",
       "      <td>-1</td>\n",
       "    </tr>\n",
       "    <tr>\n",
       "      <th>4</th>\n",
       "      <td>4</td>\n",
       "      <td>other</td>\n",
       "      <td>Tarah W threw a bunch of women under the bus s...</td>\n",
       "      <td>0.118718</td>\n",
       "      <td>False</td>\n",
       "      <td>-1</td>\n",
       "    </tr>\n",
       "  </tbody>\n",
       "</table>\n",
       "</div>"
      ],
      "text/plain": [
       "   id dataset                                               text  toxicity  \\\n",
       "0   0   other  MENTION3481 i didn't even know random was an o...  0.118180   \n",
       "1   1   other                   Bottom two should've gone!  #mkr  0.251850   \n",
       "2   2  callme  MENTION3111 MENTION3424 ladyboner deserves so ...  0.113331   \n",
       "3   3   other  She shall now be known as Sourpuss #MKR #KatAn...  0.531153   \n",
       "4   4   other  Tarah W threw a bunch of women under the bus s...  0.118718   \n",
       "\n",
       "   sexist  of_id  \n",
       "0   False     -1  \n",
       "1   False     -1  \n",
       "2   False     -1  \n",
       "3   False     -1  \n",
       "4   False     -1  "
      ]
     },
     "execution_count": 22,
     "metadata": {},
     "output_type": "execute_result"
    }
   ],
   "source": [
    "import pandas as pd\n",
    "\n",
    "data_path = './datasets/sexism_data.csv'\n",
    "\n",
    "# Carga los datos en un DataFrame\n",
    "sexism_data = pd.read_csv(data_path)\n",
    "\n",
    "# Muestra las primeras filas para entender la estructura\n",
    "sexism_data.head()"
   ]
  },
  {
   "cell_type": "markdown",
   "metadata": {},
   "source": [
    "Posterormente, haremos la selección de los datos que hayan sido clasificados como sexistas, y eliminamos las columnas de datos innecesarias"
   ]
  },
  {
   "cell_type": "code",
   "execution_count": 23,
   "metadata": {},
   "outputs": [
    {
     "data": {
      "text/html": [
       "<div>\n",
       "<style scoped>\n",
       "    .dataframe tbody tr th:only-of-type {\n",
       "        vertical-align: middle;\n",
       "    }\n",
       "\n",
       "    .dataframe tbody tr th {\n",
       "        vertical-align: top;\n",
       "    }\n",
       "\n",
       "    .dataframe thead th {\n",
       "        text-align: right;\n",
       "    }\n",
       "</style>\n",
       "<table border=\"1\" class=\"dataframe\">\n",
       "  <thead>\n",
       "    <tr style=\"text-align: right;\">\n",
       "      <th></th>\n",
       "      <th>text</th>\n",
       "      <th>class</th>\n",
       "    </tr>\n",
       "  </thead>\n",
       "  <tbody>\n",
       "    <tr>\n",
       "      <th>10</th>\n",
       "      <td>All my sons have grown up with computer games ...</td>\n",
       "      <td>3</td>\n",
       "    </tr>\n",
       "    <tr>\n",
       "      <th>14</th>\n",
       "      <td>Women have more intuition than men</td>\n",
       "      <td>3</td>\n",
       "    </tr>\n",
       "    <tr>\n",
       "      <th>30</th>\n",
       "      <td>Women do not belong in politics</td>\n",
       "      <td>3</td>\n",
       "    </tr>\n",
       "    <tr>\n",
       "      <th>45</th>\n",
       "      <td>On the average men are more arrogant than women</td>\n",
       "      <td>3</td>\n",
       "    </tr>\n",
       "    <tr>\n",
       "      <th>55</th>\n",
       "      <td>A woman will never be truly fulfilled in life ...</td>\n",
       "      <td>3</td>\n",
       "    </tr>\n",
       "  </tbody>\n",
       "</table>\n",
       "</div>"
      ],
      "text/plain": [
       "                                                 text  class\n",
       "10  All my sons have grown up with computer games ...      3\n",
       "14                 Women have more intuition than men      3\n",
       "30                    Women do not belong in politics      3\n",
       "45    On the average men are more arrogant than women      3\n",
       "55  A woman will never be truly fulfilled in life ...      3"
      ]
     },
     "execution_count": 23,
     "metadata": {},
     "output_type": "execute_result"
    }
   ],
   "source": [
    "# Selecciona los datos del dataframe 'data' donde la columna 'sexist' es igual a True\n",
    "sexism_processed_data = sexism_data[sexism_data['sexist'] == True]\n",
    "\n",
    "# Elimina las columnas 'id', 'dataset', 'toxicity' y 'of_id' del dataframe 'processed_data'\n",
    "sexism_processed_data = sexism_processed_data.drop(columns=['id', 'dataset', 'toxicity', 'of_id'])\n",
    "\n",
    "# Reemplaza los caracteres no alfanuméricos en la columna 'text' del dataframe 'processed_data' por una cadena vacía\n",
    "sexism_processed_data['text'] = sexism_processed_data['text'].str.replace(r\"[^a-zA-Z0-9\\s]\", \"\", regex=True)\n",
    "\n",
    "# Renombra la columna 'sexist' del dataframe 'processed_data' a 'class'\n",
    "sexism_processed_data = sexism_processed_data.rename(columns={'sexist': 'class'})\n",
    "\n",
    "# Asigna el valor 'sexism' a la columna 'class' del dataframe 'processed_data'\n",
    "sexism_processed_data['class'] = 3#'sexism'\n",
    "\n",
    "# Muestra las primeras filas para entender la nueva estructura\n",
    "sexism_processed_data.head()"
   ]
  },
  {
   "cell_type": "markdown",
   "metadata": {},
   "source": [
    "Y ya que hemos confirmado que se tiene la estructura deseada, podemos guardarla en nuestro nuevo dataser unificado"
   ]
  },
  {
   "cell_type": "code",
   "execution_count": 24,
   "metadata": {},
   "outputs": [],
   "source": [
    "# Define la ruta de salida del archivo CSV\n",
    "all_in_one_output_path = \"./datasets/dataset.csv\"\n",
    "\n",
    "# Guarda el dataframe 'processed_data' en un archivo CSV en la ruta especificada\n",
    "sexism_processed_data.to_csv(all_in_one_output_path, index=False , mode='w') "
   ]
  },
  {
   "cell_type": "markdown",
   "metadata": {},
   "source": [
    "## Mensajes Clasistas\n",
    "\n",
    "El tratamiento para los mensajes clasistas fue distinto, pues en el dataset encontrado solo se tenían los mensajes sin otro tipo de información, por lo que directamente se decidió por incluirlos en el dataset unificado tras hacer una labor sencilla de limpieza; en que se retiraron las comas que obstaculizaban el manejo de la información."
   ]
  },
  {
   "cell_type": "code",
   "execution_count": 25,
   "metadata": {},
   "outputs": [
    {
     "data": {
      "text/html": [
       "<div>\n",
       "<style scoped>\n",
       "    .dataframe tbody tr th:only-of-type {\n",
       "        vertical-align: middle;\n",
       "    }\n",
       "\n",
       "    .dataframe tbody tr th {\n",
       "        vertical-align: top;\n",
       "    }\n",
       "\n",
       "    .dataframe thead th {\n",
       "        text-align: right;\n",
       "    }\n",
       "</style>\n",
       "<table border=\"1\" class=\"dataframe\">\n",
       "  <thead>\n",
       "    <tr style=\"text-align: right;\">\n",
       "      <th></th>\n",
       "      <th>text</th>\n",
       "    </tr>\n",
       "  </thead>\n",
       "  <tbody>\n",
       "    <tr>\n",
       "      <th>0</th>\n",
       "      <td>I don't understand how people can travel by su...</td>\n",
       "    </tr>\n",
       "    <tr>\n",
       "      <th>1</th>\n",
       "      <td>Public education is in decline. Luckily my kid...</td>\n",
       "    </tr>\n",
       "    <tr>\n",
       "      <th>2</th>\n",
       "      <td>It bothers me to have to stand in line like th...</td>\n",
       "    </tr>\n",
       "    <tr>\n",
       "      <th>3</th>\n",
       "      <td>The poor are only poor because they want to be...</td>\n",
       "    </tr>\n",
       "    <tr>\n",
       "      <th>4</th>\n",
       "      <td>If you can't afford good wine better not to dr...</td>\n",
       "    </tr>\n",
       "  </tbody>\n",
       "</table>\n",
       "</div>"
      ],
      "text/plain": [
       "                                                text\n",
       "0  I don't understand how people can travel by su...\n",
       "1  Public education is in decline. Luckily my kid...\n",
       "2  It bothers me to have to stand in line like th...\n",
       "3  The poor are only poor because they want to be...\n",
       "4  If you can't afford good wine better not to dr..."
      ]
     },
     "execution_count": 25,
     "metadata": {},
     "output_type": "execute_result"
    }
   ],
   "source": [
    "data_path = './datasets/clasism.csv'\n",
    "\n",
    "# Carga los datos en un DataFrame\n",
    "clasism_data = pd.read_csv(data_path)\n",
    "\n",
    "# Muestra las primeras filas para entender la estructura\n",
    "clasism_data.head()"
   ]
  },
  {
   "cell_type": "markdown",
   "metadata": {},
   "source": [
    "Se hace además un tratamiento preventivo, con el que hacemos una limpieza sencilla de datos"
   ]
  },
  {
   "cell_type": "code",
   "execution_count": 26,
   "metadata": {},
   "outputs": [],
   "source": [
    "# Reemplaza los caracteres no alfanuméricos en la columna 'text' del dataframe por una cadena vacía\n",
    "clasism_data['text'] = clasism_data['text'].str.replace(r\"[^a-zA-Z0-9\\s]\", \"\", regex=True)"
   ]
  },
  {
   "cell_type": "markdown",
   "metadata": {},
   "source": [
    "Como indiqué anteriormente, la información incluida es únicamente el propio mensaje, por lo que debo insertar la segunda columna yo mismo, columna que corresponde a la clasificación de la información."
   ]
  },
  {
   "cell_type": "code",
   "execution_count": 27,
   "metadata": {},
   "outputs": [
    {
     "data": {
      "text/html": [
       "<div>\n",
       "<style scoped>\n",
       "    .dataframe tbody tr th:only-of-type {\n",
       "        vertical-align: middle;\n",
       "    }\n",
       "\n",
       "    .dataframe tbody tr th {\n",
       "        vertical-align: top;\n",
       "    }\n",
       "\n",
       "    .dataframe thead th {\n",
       "        text-align: right;\n",
       "    }\n",
       "</style>\n",
       "<table border=\"1\" class=\"dataframe\">\n",
       "  <thead>\n",
       "    <tr style=\"text-align: right;\">\n",
       "      <th></th>\n",
       "      <th>text</th>\n",
       "      <th>class</th>\n",
       "    </tr>\n",
       "  </thead>\n",
       "  <tbody>\n",
       "    <tr>\n",
       "      <th>0</th>\n",
       "      <td>I dont understand how people can travel by sub...</td>\n",
       "      <td>1</td>\n",
       "    </tr>\n",
       "    <tr>\n",
       "      <th>1</th>\n",
       "      <td>Public education is in decline Luckily my kids...</td>\n",
       "      <td>1</td>\n",
       "    </tr>\n",
       "    <tr>\n",
       "      <th>2</th>\n",
       "      <td>It bothers me to have to stand in line like th...</td>\n",
       "      <td>1</td>\n",
       "    </tr>\n",
       "    <tr>\n",
       "      <th>3</th>\n",
       "      <td>The poor are only poor because they want to be...</td>\n",
       "      <td>1</td>\n",
       "    </tr>\n",
       "    <tr>\n",
       "      <th>4</th>\n",
       "      <td>If you cant afford good wine better not to dri...</td>\n",
       "      <td>1</td>\n",
       "    </tr>\n",
       "  </tbody>\n",
       "</table>\n",
       "</div>"
      ],
      "text/plain": [
       "                                                text  class\n",
       "0  I dont understand how people can travel by sub...      1\n",
       "1  Public education is in decline Luckily my kids...      1\n",
       "2  It bothers me to have to stand in line like th...      1\n",
       "3  The poor are only poor because they want to be...      1\n",
       "4  If you cant afford good wine better not to dri...      1"
      ]
     },
     "execution_count": 27,
     "metadata": {},
     "output_type": "execute_result"
    }
   ],
   "source": [
    "# Agregar una nueva columna llamada 'class' con el valor por defecto \"clasism\"\n",
    "clasism_data['class'] = 1#'clasism'\n",
    "\n",
    "# Muestra las primeras filas para entender la estructura resultante\n",
    "clasism_data.head()"
   ]
  },
  {
   "cell_type": "markdown",
   "metadata": {},
   "source": [
    "Ya que se tiene un formato de textos deseable, procedo a incluirlo dentro del dataset manufacturado por nosotros."
   ]
  },
  {
   "cell_type": "code",
   "execution_count": 28,
   "metadata": {},
   "outputs": [],
   "source": [
    "# Guarda el dataframe en el archivo CSV de la ruta especificada antes\n",
    "clasism_data.to_csv(all_in_one_output_path, header=False , index=False , mode='a') "
   ]
  },
  {
   "cell_type": "markdown",
   "metadata": {},
   "source": [
    "## Mensajes Inaproppiados\n",
    "\n",
    "Tienen un tratamiento practicamente identico al de los **Mensajes Racistas**"
   ]
  },
  {
   "cell_type": "code",
   "execution_count": 29,
   "metadata": {},
   "outputs": [
    {
     "data": {
      "text/html": [
       "<div>\n",
       "<style scoped>\n",
       "    .dataframe tbody tr th:only-of-type {\n",
       "        vertical-align: middle;\n",
       "    }\n",
       "\n",
       "    .dataframe tbody tr th {\n",
       "        vertical-align: top;\n",
       "    }\n",
       "\n",
       "    .dataframe thead th {\n",
       "        text-align: right;\n",
       "    }\n",
       "</style>\n",
       "<table border=\"1\" class=\"dataframe\">\n",
       "  <thead>\n",
       "    <tr style=\"text-align: right;\">\n",
       "      <th></th>\n",
       "      <th>text</th>\n",
       "      <th>class</th>\n",
       "    </tr>\n",
       "  </thead>\n",
       "  <tbody>\n",
       "    <tr>\n",
       "      <th>0</th>\n",
       "      <td>The bathroom mat squelches with a suspicious m...</td>\n",
       "      <td>5</td>\n",
       "    </tr>\n",
       "    <tr>\n",
       "      <th>1</th>\n",
       "      <td>In the closet a pile of oncewhite towels now h...</td>\n",
       "      <td>5</td>\n",
       "    </tr>\n",
       "    <tr>\n",
       "      <th>2</th>\n",
       "      <td>The garden gnome leers obscenely its position ...</td>\n",
       "      <td>5</td>\n",
       "    </tr>\n",
       "    <tr>\n",
       "      <th>3</th>\n",
       "      <td>An old recliner in the den is crusty with the ...</td>\n",
       "      <td>5</td>\n",
       "    </tr>\n",
       "    <tr>\n",
       "      <th>4</th>\n",
       "      <td>The hallway wallpaper is an accidental collage...</td>\n",
       "      <td>5</td>\n",
       "    </tr>\n",
       "  </tbody>\n",
       "</table>\n",
       "</div>"
      ],
      "text/plain": [
       "                                                text  class\n",
       "0  The bathroom mat squelches with a suspicious m...      5\n",
       "1  In the closet a pile of oncewhite towels now h...      5\n",
       "2  The garden gnome leers obscenely its position ...      5\n",
       "3  An old recliner in the den is crusty with the ...      5\n",
       "4  The hallway wallpaper is an accidental collage...      5"
      ]
     },
     "execution_count": 29,
     "metadata": {},
     "output_type": "execute_result"
    }
   ],
   "source": [
    "data_path = './datasets/inappropriate content.csv'\n",
    "\n",
    "# Carga los datos en un DataFrame\n",
    "inappropriate_data = pd.read_csv(data_path)\n",
    "\n",
    "# Reemplaza los caracteres no alfanuméricos en la columna 'text' del dataframe por una cadena vacía\n",
    "inappropriate_data['text'] = inappropriate_data['text'].str.replace(r\"[^a-zA-Z0-9\\s]\", \"\", regex=True)\n",
    "\n",
    "# Agregar una nueva columna llamada 'class' con el valor por defecto \"clasism\"\n",
    "inappropriate_data['class'] = 5#'inappropriate'\n",
    "\n",
    "# Muestra las primeras filas para entender la estructura resultante\n",
    "inappropriate_data.head()"
   ]
  },
  {
   "cell_type": "markdown",
   "metadata": {},
   "source": [
    "Ya que he confirmado que los textos se han tratado adecuadamente, procedo a insertarlos dentro del dataset unificado."
   ]
  },
  {
   "cell_type": "code",
   "execution_count": 30,
   "metadata": {},
   "outputs": [],
   "source": [
    "# Guarda el dataframe en el archivo CSV de la ruta especificada antes\n",
    "inappropriate_data.to_csv(all_in_one_output_path, header=False , index=False , mode='a') "
   ]
  },
  {
   "cell_type": "code",
   "execution_count": null,
   "metadata": {},
   "outputs": [],
   "source": []
  },
  {
   "cell_type": "markdown",
   "metadata": {},
   "source": [
    "## Mensajes Inofensivos\n",
    "\n",
    "Ya que se obtuvo información simple, solo se tiene el texto plano, por lo que tienen un tratamiento practicamente identico al de los **Mensajes Racistas** y los **Mensajes Inapropiados**"
   ]
  },
  {
   "cell_type": "code",
   "execution_count": 31,
   "metadata": {},
   "outputs": [
    {
     "data": {
      "text/html": [
       "<div>\n",
       "<style scoped>\n",
       "    .dataframe tbody tr th:only-of-type {\n",
       "        vertical-align: middle;\n",
       "    }\n",
       "\n",
       "    .dataframe tbody tr th {\n",
       "        vertical-align: top;\n",
       "    }\n",
       "\n",
       "    .dataframe thead th {\n",
       "        text-align: right;\n",
       "    }\n",
       "</style>\n",
       "<table border=\"1\" class=\"dataframe\">\n",
       "  <thead>\n",
       "    <tr style=\"text-align: right;\">\n",
       "      <th></th>\n",
       "      <th>text</th>\n",
       "      <th>class</th>\n",
       "    </tr>\n",
       "  </thead>\n",
       "  <tbody>\n",
       "    <tr>\n",
       "      <th>0</th>\n",
       "      <td>The quiet whisper of wind through a field of t...</td>\n",
       "      <td>6</td>\n",
       "    </tr>\n",
       "    <tr>\n",
       "      <th>1</th>\n",
       "      <td>Delving into the complex world of astrobiology...</td>\n",
       "      <td>6</td>\n",
       "    </tr>\n",
       "    <tr>\n",
       "      <th>2</th>\n",
       "      <td>Investing in communitybased language exchange ...</td>\n",
       "      <td>6</td>\n",
       "    </tr>\n",
       "    <tr>\n",
       "      <th>3</th>\n",
       "      <td>The mesmerizing sight of a murmuration of bird...</td>\n",
       "      <td>6</td>\n",
       "    </tr>\n",
       "    <tr>\n",
       "      <th>4</th>\n",
       "      <td>Exploring the depths of the ocean through unde...</td>\n",
       "      <td>6</td>\n",
       "    </tr>\n",
       "  </tbody>\n",
       "</table>\n",
       "</div>"
      ],
      "text/plain": [
       "                                                text  class\n",
       "0  The quiet whisper of wind through a field of t...      6\n",
       "1  Delving into the complex world of astrobiology...      6\n",
       "2  Investing in communitybased language exchange ...      6\n",
       "3  The mesmerizing sight of a murmuration of bird...      6\n",
       "4  Exploring the depths of the ocean through unde...      6"
      ]
     },
     "execution_count": 31,
     "metadata": {},
     "output_type": "execute_result"
    }
   ],
   "source": [
    "data_path = './datasets/None of the above.csv'\n",
    "\n",
    "# Carga los datos en un DataFrame\n",
    "inoffensive_data = pd.read_csv(data_path)\n",
    "\n",
    "# Reemplaza los caracteres no alfanuméricos en la columna 'text' del dataframe por una cadena vacía\n",
    "inoffensive_data['text'] = inoffensive_data['text'].str.replace(r\"[^a-zA-Z0-9\\s]\", \"\", regex=True)\n",
    "\n",
    "# Agregar una nueva columna llamada 'class' con el valor por defecto \"clasism\"\n",
    "inoffensive_data['class'] = 6#'none of the above'\n",
    "\n",
    "# Muestra las primeras filas para entender la estructura resultante\n",
    "inoffensive_data.head()"
   ]
  },
  {
   "cell_type": "markdown",
   "metadata": {},
   "source": [
    "Ya que parece que la informacion resultante no presenta inconvenientes de algún tipo, se puede proceder a incluir sus datos al dataframe unificado"
   ]
  },
  {
   "cell_type": "code",
   "execution_count": 32,
   "metadata": {},
   "outputs": [],
   "source": [
    "# Guarda el dataframe en el archivo CSV de la ruta especificada antes\n",
    "inoffensive_data.to_csv(all_in_one_output_path, header=False , index=False , mode='a') "
   ]
  }
 ],
 "metadata": {
  "kernelspec": {
   "display_name": "Python 3",
   "language": "python",
   "name": "python3"
  },
  "language_info": {
   "codemirror_mode": {
    "name": "ipython",
    "version": 3
   },
   "file_extension": ".py",
   "mimetype": "text/x-python",
   "name": "python",
   "nbconvert_exporter": "python",
   "pygments_lexer": "ipython3",
   "version": "3.12.3"
  }
 },
 "nbformat": 4,
 "nbformat_minor": 2
}
