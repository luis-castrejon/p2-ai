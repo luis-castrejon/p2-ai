{
 "cells": [
  {
   "cell_type": "markdown",
   "metadata": {},
   "source": [
    "## Preparación de datos\n",
    "\n",
    "Preparamos un conjunto de datos que agrupa textos etiquetados según categorías de contenido como clasismo, racismo, sexismo, entre otros. Cargamos los datos desde varios archivos CSV, unificamos las estructuras de estos archivos al renombrar sus columnas, asignamos a cada categoría un identificador numérico y combinamos todo en un único DataFrame. Esto proporciona un conjunto de datos donde cada texto está asociado con una etiqueta que indica su categoría."
   ]
  },
  {
   "cell_type": "code",
   "execution_count": 137,
   "metadata": {},
   "outputs": [
    {
     "data": {
      "text/plain": [
       "(                                                text  class\n",
       " 0  Public education is in decline. Luckily my kid...      1\n",
       " 1  It bothers me to have to stand in line like th...      1\n",
       " 2  The poor are only poor because they want to be...      1\n",
       " 3  If you can't afford good wine better not to dr...      1\n",
       " 4  The service in this restaurant is terrible. Wh...      1,\n",
       " (2729, 2))"
      ]
     },
     "execution_count": 137,
     "metadata": {},
     "output_type": "execute_result"
    }
   ],
   "source": [
    "import pandas as pd\n",
    "\n",
    "df_clasism = pd.read_csv('./datasets/1_clasism.csv')\n",
    "df_racism = pd.read_csv('./datasets/2_racism.csv')\n",
    "df_sexism = pd.read_csv('./datasets/3_sexism.csv')\n",
    "df_other = pd.read_csv('./datasets/4_other.csv')\n",
    "df_inappropriate = pd.read_csv('./datasets/5_inappropriate_content.csv')\n",
    "df_none = pd.read_csv('./datasets/6_none_of_the_above.csv')\n",
    "\n",
    "df_clasism.columns = ['text']\n",
    "df_racism.columns = ['text']\n",
    "df_sexism.columns = ['text']\n",
    "df_other.columns = ['text']\n",
    "df_inappropriate.columns = ['text']\n",
    "df_none.columns = ['text']\n",
    "\n",
    "df_clasism['class'] = 1\n",
    "df_racism['class'] = 2\n",
    "df_sexism['class'] = 3\n",
    "df_other['class'] = 4\n",
    "df_inappropriate['class'] = 5\n",
    "df_none['class'] = 6\n",
    "\n",
    "dataset = pd.concat([df_clasism, df_racism, df_sexism, df_other, df_inappropriate, df_none], ignore_index=True)\n",
    "\n",
    "dataset.head(), dataset.shape"
   ]
  },
  {
   "cell_type": "markdown",
   "metadata": {},
   "source": [
    "Creamos el archivo unificado"
   ]
  },
  {
   "cell_type": "code",
   "execution_count": 138,
   "metadata": {},
   "outputs": [],
   "source": [
    "archivo_combinado = './datasets/dataset.csv'\n",
    "dataset.to_csv(archivo_combinado, index=False)"
   ]
  },
  {
   "cell_type": "markdown",
   "metadata": {},
   "source": [
    "Cargamos el conjunto de datos que acompaña al PDF de esta práctica en un DataFrame de pandas."
   ]
  },
  {
   "cell_type": "code",
   "execution_count": 139,
   "metadata": {},
   "outputs": [
    {
     "data": {
      "text/html": [
       "<div>\n",
       "<style scoped>\n",
       "    .dataframe tbody tr th:only-of-type {\n",
       "        vertical-align: middle;\n",
       "    }\n",
       "\n",
       "    .dataframe tbody tr th {\n",
       "        vertical-align: top;\n",
       "    }\n",
       "\n",
       "    .dataframe thead th {\n",
       "        text-align: right;\n",
       "    }\n",
       "</style>\n",
       "<table border=\"1\" class=\"dataframe\">\n",
       "  <thead>\n",
       "    <tr style=\"text-align: right;\">\n",
       "      <th></th>\n",
       "      <th>text</th>\n",
       "      <th>class</th>\n",
       "    </tr>\n",
       "  </thead>\n",
       "  <tbody>\n",
       "    <tr>\n",
       "      <th>0</th>\n",
       "      <td>Public education is in decline. Luckily my kid...</td>\n",
       "      <td>1</td>\n",
       "    </tr>\n",
       "    <tr>\n",
       "      <th>1</th>\n",
       "      <td>It bothers me to have to stand in line like th...</td>\n",
       "      <td>1</td>\n",
       "    </tr>\n",
       "    <tr>\n",
       "      <th>2</th>\n",
       "      <td>The poor are only poor because they want to be...</td>\n",
       "      <td>1</td>\n",
       "    </tr>\n",
       "    <tr>\n",
       "      <th>3</th>\n",
       "      <td>If you can't afford good wine better not to dr...</td>\n",
       "      <td>1</td>\n",
       "    </tr>\n",
       "    <tr>\n",
       "      <th>4</th>\n",
       "      <td>The service in this restaurant is terrible. Wh...</td>\n",
       "      <td>1</td>\n",
       "    </tr>\n",
       "  </tbody>\n",
       "</table>\n",
       "</div>"
      ],
      "text/plain": [
       "                                                text  class\n",
       "0  Public education is in decline. Luckily my kid...      1\n",
       "1  It bothers me to have to stand in line like th...      1\n",
       "2  The poor are only poor because they want to be...      1\n",
       "3  If you can't afford good wine better not to dr...      1\n",
       "4  The service in this restaurant is terrible. Wh...      1"
      ]
     },
     "execution_count": 139,
     "metadata": {},
     "output_type": "execute_result"
    }
   ],
   "source": [
    "data_path = \"./datasets/dataset.csv\"\n",
    "data = pd.read_csv(data_path)\n",
    "data.head()"
   ]
  },
  {
   "cell_type": "markdown",
   "metadata": {},
   "source": [
    "Verifiquemos la cantidad de filas y columnas en el DataFrame, así como los nombres de las columnas."
   ]
  },
  {
   "cell_type": "code",
   "execution_count": 140,
   "metadata": {},
   "outputs": [
    {
     "name": "stdout",
     "output_type": "stream",
     "text": [
      "Dimensiones del DataFrame: (2729, 2)\n",
      "Columnas: Index(['text', 'class'], dtype='object')\n"
     ]
    }
   ],
   "source": [
    "print(\"Dimensiones del DataFrame:\", data.shape)\n",
    "print(\"Columnas:\", data.columns)"
   ]
  },
  {
   "cell_type": "markdown",
   "metadata": {},
   "source": [
    "Veamos cuántas muestras hay de cada clase en el DataFrame."
   ]
  },
  {
   "cell_type": "code",
   "execution_count": 141,
   "metadata": {},
   "outputs": [
    {
     "name": "stdout",
     "output_type": "stream",
     "text": [
      "Distribución de clases:\n",
      "class\n",
      "5    489\n",
      "3    474\n",
      "2    454\n",
      "4    449\n",
      "6    449\n",
      "1    414\n",
      "Name: count, dtype: int64\n"
     ]
    }
   ],
   "source": [
    "conteo_clases = data['class'].value_counts()\n",
    "print(\"Distribución de clases:\")\n",
    "print(conteo_clases)"
   ]
  },
  {
   "cell_type": "markdown",
   "metadata": {},
   "source": [
    "Convirtamos todo el texto a minúsculas y eliminemos los signos de puntuación."
   ]
  },
  {
   "cell_type": "code",
   "execution_count": 142,
   "metadata": {},
   "outputs": [
    {
     "data": {
      "text/html": [
       "<div>\n",
       "<style scoped>\n",
       "    .dataframe tbody tr th:only-of-type {\n",
       "        vertical-align: middle;\n",
       "    }\n",
       "\n",
       "    .dataframe tbody tr th {\n",
       "        vertical-align: top;\n",
       "    }\n",
       "\n",
       "    .dataframe thead th {\n",
       "        text-align: right;\n",
       "    }\n",
       "</style>\n",
       "<table border=\"1\" class=\"dataframe\">\n",
       "  <thead>\n",
       "    <tr style=\"text-align: right;\">\n",
       "      <th></th>\n",
       "      <th>text</th>\n",
       "      <th>class</th>\n",
       "    </tr>\n",
       "  </thead>\n",
       "  <tbody>\n",
       "    <tr>\n",
       "      <th>0</th>\n",
       "      <td>public education is in decline luckily my kids...</td>\n",
       "      <td>1</td>\n",
       "    </tr>\n",
       "    <tr>\n",
       "      <th>1</th>\n",
       "      <td>it bothers me to have to stand in line like th...</td>\n",
       "      <td>1</td>\n",
       "    </tr>\n",
       "    <tr>\n",
       "      <th>2</th>\n",
       "      <td>the poor are only poor because they want to be...</td>\n",
       "      <td>1</td>\n",
       "    </tr>\n",
       "    <tr>\n",
       "      <th>3</th>\n",
       "      <td>if you cant afford good wine better not to dri...</td>\n",
       "      <td>1</td>\n",
       "    </tr>\n",
       "    <tr>\n",
       "      <th>4</th>\n",
       "      <td>the service in this restaurant is terrible whe...</td>\n",
       "      <td>1</td>\n",
       "    </tr>\n",
       "  </tbody>\n",
       "</table>\n",
       "</div>"
      ],
      "text/plain": [
       "                                                text  class\n",
       "0  public education is in decline luckily my kids...      1\n",
       "1  it bothers me to have to stand in line like th...      1\n",
       "2  the poor are only poor because they want to be...      1\n",
       "3  if you cant afford good wine better not to dri...      1\n",
       "4  the service in this restaurant is terrible whe...      1"
      ]
     },
     "execution_count": 142,
     "metadata": {},
     "output_type": "execute_result"
    }
   ],
   "source": [
    "import string\n",
    "\n",
    "def preprocesamiento_texto(texto):\n",
    "    # Convertimos a minúsculas\n",
    "    texto = texto.lower()\n",
    "    # Eliminamos signos de puntuación\n",
    "    texto = texto.translate(str.maketrans(\"\", \"\", string.punctuation))\n",
    "    return texto\n",
    "\n",
    "data['text'] = data['text'].apply(preprocesamiento_texto)\n",
    "data.head()"
   ]
  },
  {
   "cell_type": "markdown",
   "metadata": {},
   "source": [
    "Se dividen los datos en conjuntos de entrenamiento y prueba con una proporción de 80% para entrenamiento y 20% para prueba."
   ]
  },
  {
   "cell_type": "code",
   "execution_count": 143,
   "metadata": {},
   "outputs": [
    {
     "name": "stdout",
     "output_type": "stream",
     "text": [
      "Tamaño del conjunto de entrenamiento: 2183\n",
      "Tamaño del conjunto de prueba: 546\n"
     ]
    }
   ],
   "source": [
    "from sklearn.model_selection import train_test_split\n",
    "\n",
    "X = data['text']  \n",
    "y = data['class']\n",
    "\n",
    "X_train, X_test, y_train, y_test = train_test_split(X, y, test_size=0.2, random_state=42)\n",
    "\n",
    "print(\"Tamaño del conjunto de entrenamiento:\", len(X_train))\n",
    "print(\"Tamaño del conjunto de prueba:\", len(X_test))"
   ]
  },
  {
   "cell_type": "markdown",
   "metadata": {},
   "source": [
    "Aplicación de vectorización TF-IDF al texto utilizando la clase TfidfVectorizer de scikit-learn."
   ]
  },
  {
   "cell_type": "code",
   "execution_count": 144,
   "metadata": {},
   "outputs": [
    {
     "name": "stdout",
     "output_type": "stream",
     "text": [
      "Dimensiones de la matriz TF-IDF de entrenamiento: (2183, 5946)\n",
      "Dimensiones de la matriz TF-IDF de prueba: (546, 5946)\n"
     ]
    }
   ],
   "source": [
    "from sklearn.feature_extraction.text import TfidfVectorizer\n",
    "\n",
    "vectorizacion = TfidfVectorizer()\n",
    "X_train_tfidf = vectorizacion.fit_transform(X_train)\n",
    "X_test_tfidf = vectorizacion.transform(X_test)\n",
    "\n",
    "print(\"Dimensiones de la matriz TF-IDF de entrenamiento:\", X_train_tfidf.shape)\n",
    "print(\"Dimensiones de la matriz TF-IDF de prueba:\", X_test_tfidf.shape)"
   ]
  },
  {
   "cell_type": "markdown",
   "metadata": {},
   "source": [
    "Entrenamiento de un clasificador de Regresión Logística utilizando las matrices TF-IDF y evaluación su rendimiento en el conjunto de prueba."
   ]
  },
  {
   "cell_type": "code",
   "execution_count": 145,
   "metadata": {},
   "outputs": [
    {
     "name": "stdout",
     "output_type": "stream",
     "text": [
      "Accuracy: 0.9395604395604396\n",
      "\n",
      "Reporte de Clasificación:\n",
      "              precision    recall  f1-score   support\n",
      "\n",
      "           1       0.95      0.92      0.93        83\n",
      "           2       0.94      0.87      0.91        95\n",
      "           3       0.93      0.97      0.95        87\n",
      "           4       0.85      0.90      0.87        92\n",
      "           5       0.98      0.99      0.99       106\n",
      "           6       0.99      0.99      0.99        83\n",
      "\n",
      "    accuracy                           0.94       546\n",
      "   macro avg       0.94      0.94      0.94       546\n",
      "weighted avg       0.94      0.94      0.94       546\n",
      "\n"
     ]
    }
   ],
   "source": [
    "from sklearn.linear_model import LogisticRegression\n",
    "from sklearn.metrics import accuracy_score, classification_report\n",
    "\n",
    "clasificador = LogisticRegression()\n",
    "clasificador.fit(X_train_tfidf, y_train)\n",
    "\n",
    "y_pred = clasificador.predict(X_test_tfidf)\n",
    "\n",
    "accuracy = accuracy_score(y_test, y_pred)\n",
    "print(\"Accuracy:\", accuracy)\n",
    "\n",
    "print(\"\\nReporte de Clasificación:\")\n",
    "print(classification_report(y_test, y_pred))"
   ]
  },
  {
   "cell_type": "markdown",
   "metadata": {},
   "source": [
    "Entrenamiento de un clasificador de Naive Bayes utilizando las matrices TF-IDF y evaluación su rendimiento en el conjunto de prueba."
   ]
  },
  {
   "cell_type": "code",
   "execution_count": 146,
   "metadata": {},
   "outputs": [
    {
     "name": "stdout",
     "output_type": "stream",
     "text": [
      "Accuracy (Naive Bayes): 0.9194139194139194\n",
      "\n",
      "Reporte de Clasificación (Naive Bayes):\n",
      "              precision    recall  f1-score   support\n",
      "\n",
      "           1       0.97      0.92      0.94        83\n",
      "           2       0.93      0.85      0.89        95\n",
      "           3       0.80      0.97      0.88        87\n",
      "           4       0.84      0.79      0.82        92\n",
      "           5       1.00      1.00      1.00       106\n",
      "           6       0.99      0.99      0.99        83\n",
      "\n",
      "    accuracy                           0.92       546\n",
      "   macro avg       0.92      0.92      0.92       546\n",
      "weighted avg       0.92      0.92      0.92       546\n",
      "\n"
     ]
    }
   ],
   "source": [
    "from sklearn.naive_bayes import MultinomialNB\n",
    "\n",
    "nb_clasificador = MultinomialNB()\n",
    "nb_clasificador.fit(X_train_tfidf, y_train)\n",
    "\n",
    "y_pred_nb = nb_clasificador.predict(X_test_tfidf)\n",
    "\n",
    "accuracy_nb = accuracy_score(y_test, y_pred_nb)\n",
    "print(\"Accuracy (Naive Bayes):\", accuracy_nb)\n",
    "\n",
    "print(\"\\nReporte de Clasificación (Naive Bayes):\")\n",
    "print(classification_report(y_test, y_pred_nb))"
   ]
  },
  {
   "cell_type": "markdown",
   "metadata": {},
   "source": [
    "Visualización de la matriz de confusión para el clasificador de Regresión Logística."
   ]
  },
  {
   "cell_type": "code",
   "execution_count": 147,
   "metadata": {},
   "outputs": [
    {
     "data": {
      "image/png": "[encoded data removed]",
      "text/plain": [
       "<Figure size 640x480 with 2 Axes>"
      ]
     },
     "metadata": {},
     "output_type": "display_data"
    }
   ],
   "source": [
    "from sklearn.metrics import confusion_matrix\n",
    "import seaborn as sns\n",
    "import matplotlib.pyplot as plt\n",
    "\n",
    "mat_conf = confusion_matrix(y_test, y_pred)\n",
    "\n",
    "sns.heatmap(mat_conf, annot=True, fmt='d', cmap='Blues')\n",
    "plt.xlabel('Predicción')\n",
    "plt.ylabel('Real')\n",
    "plt.show()"
   ]
  },
  {
   "cell_type": "markdown",
   "metadata": {},
   "source": [
    "Visualización de la matriz de confusión para el clasificador de Naive Bayes."
   ]
  },
  {
   "cell_type": "code",
   "execution_count": 148,
   "metadata": {},
   "outputs": [
    {
     "data": {
      "image/png": "[encoded data removed]",
      "text/plain": [
       "<Figure size 640x480 with 2 Axes>"
      ]
     },
     "metadata": {},
     "output_type": "display_data"
    }
   ],
   "source": [
    "mat_conf_nb = confusion_matrix(y_test, y_pred_nb)\n",
    "\n",
    "sns.heatmap(mat_conf_nb, annot=True, fmt='d', cmap='Blues')\n",
    "plt.xlabel('Predicción')\n",
    "plt.ylabel('Real')\n",
    "plt.show()"
   ]
  },
  {
   "cell_type": "markdown",
   "metadata": {},
   "source": [
    "Aplicación de técnicas de preprocesamiento adicionales: eliminación de palabras vacías (stop words), lematización y derivación (stemming)."
   ]
  },
  {
   "cell_type": "code",
   "execution_count": 149,
   "metadata": {},
   "outputs": [
    {
     "name": "stderr",
     "output_type": "stream",
     "text": [
      "[nltk_data] Downloading package wordnet to /home/luis/nltk_data...\n",
      "[nltk_data]   Package wordnet is already up-to-date!\n"
     ]
    },
    {
     "data": {
      "text/html": [
       "<div>\n",
       "<style scoped>\n",
       "    .dataframe tbody tr th:only-of-type {\n",
       "        vertical-align: middle;\n",
       "    }\n",
       "\n",
       "    .dataframe tbody tr th {\n",
       "        vertical-align: top;\n",
       "    }\n",
       "\n",
       "    .dataframe thead th {\n",
       "        text-align: right;\n",
       "    }\n",
       "</style>\n",
       "<table border=\"1\" class=\"dataframe\">\n",
       "  <thead>\n",
       "    <tr style=\"text-align: right;\">\n",
       "      <th></th>\n",
       "      <th>text</th>\n",
       "      <th>class</th>\n",
       "    </tr>\n",
       "  </thead>\n",
       "  <tbody>\n",
       "    <tr>\n",
       "      <th>0</th>\n",
       "      <td>public educ declin luckili kid go exclus priva...</td>\n",
       "      <td>1</td>\n",
       "    </tr>\n",
       "    <tr>\n",
       "      <th>1</th>\n",
       "      <td>bother stand line like rest pleb dont know</td>\n",
       "      <td>1</td>\n",
       "    </tr>\n",
       "    <tr>\n",
       "      <th>2</th>\n",
       "      <td>poor poor want made hard work</td>\n",
       "      <td>1</td>\n",
       "    </tr>\n",
       "    <tr>\n",
       "      <th>3</th>\n",
       "      <td>cant afford good wine better drink anyth</td>\n",
       "      <td>1</td>\n",
       "    </tr>\n",
       "    <tr>\n",
       "      <th>4</th>\n",
       "      <td>servic restaur terribl manag demand speak</td>\n",
       "      <td>1</td>\n",
       "    </tr>\n",
       "  </tbody>\n",
       "</table>\n",
       "</div>"
      ],
      "text/plain": [
       "                                                text  class\n",
       "0  public educ declin luckili kid go exclus priva...      1\n",
       "1         bother stand line like rest pleb dont know      1\n",
       "2                      poor poor want made hard work      1\n",
       "3           cant afford good wine better drink anyth      1\n",
       "4          servic restaur terribl manag demand speak      1"
      ]
     },
     "execution_count": 149,
     "metadata": {},
     "output_type": "execute_result"
    }
   ],
   "source": [
    "import nltk\n",
    "from nltk.corpus import stopwords\n",
    "from nltk.stem import WordNetLemmatizer, PorterStemmer\n",
    "nltk.download('wordnet')\n",
    "\n",
    "stop_words = set(stopwords.words('english'))\n",
    "lemmatizer = WordNetLemmatizer()\n",
    "stemmer = PorterStemmer()\n",
    "\n",
    "def preprocesamiento_texto(text):\n",
    "    # Convertir a minúsculas\n",
    "    text = text.lower()\n",
    "    # Eliminar signos de puntuación\n",
    "    text = text.translate(str.maketrans(\"\", \"\", string.punctuation))\n",
    "    # Tokenizar\n",
    "    words = text.split()\n",
    "    # Eliminar palabras vacías\n",
    "    words = [word for word in words if word not in stop_words]\n",
    "    # Lematizar\n",
    "    words = [lemmatizer.lemmatize(word) for word in words]\n",
    "    # Derivar\n",
    "    words = [stemmer.stem(word) for word in words]\n",
    "    # Unir las palabras de nuevo en un texto\n",
    "    text = ' '.join(words)\n",
    "    return text\n",
    "\n",
    "data['text'] = data['text'].apply(preprocesamiento_texto)\n",
    "data.head()"
   ]
  },
  {
   "cell_type": "markdown",
   "metadata": {},
   "source": [
    "Visualización de la distribución de las clases utilizando un diagrama de barras."
   ]
  },
  {
   "cell_type": "code",
   "execution_count": 150,
   "metadata": {},
   "outputs": [
    {
     "data": {
      "image/png": "[encoded data removed]",
      "text/plain": [
       "<Figure size 640x480 with 1 Axes>"
      ]
     },
     "metadata": {},
     "output_type": "display_data"
    }
   ],
   "source": [
    "conteo_clases.plot(kind='bar')\n",
    "plt.xlabel('Clase')\n",
    "plt.ylabel('Número de ejemplares')\n",
    "plt.show()"
   ]
  },
  {
   "cell_type": "markdown",
   "metadata": {},
   "source": [
    "Visualición de la relación entre la longitud del texto y su clase utilizando un diagrama de dispersión."
   ]
  },
  {
   "cell_type": "code",
   "execution_count": 151,
   "metadata": {},
   "outputs": [
    {
     "data": {
      "image/png": "[encoded data removed]",
      "text/plain": [
       "<Figure size 1000x600 with 1 Axes>"
      ]
     },
     "metadata": {},
     "output_type": "display_data"
    }
   ],
   "source": [
    "data['text_length'] = data['text'].apply(len)\n",
    "\n",
    "plt.figure(figsize=(10, 6))\n",
    "sns.scatterplot(x='text_length', y='class', data=data)\n",
    "plt.xlabel('Longitud del Texto')\n",
    "plt.ylabel('Clase')\n",
    "plt.show()"
   ]
  },
  {
   "cell_type": "markdown",
   "metadata": {},
   "source": [
    "Volver a dividir los datos en conjuntos de entrenamiento y prueba, entrenar los modelos de Regresión Logística y Naive Bayes, y evaluar su rendimiento después del preprocesamiento adicional."
   ]
  },
  {
   "cell_type": "code",
   "execution_count": 152,
   "metadata": {},
   "outputs": [
    {
     "name": "stdout",
     "output_type": "stream",
     "text": [
      "Accuracy (Regresión Logística): 0.9120879120879121\n",
      "\n",
      "Reporte de Clasificación (Regresión Logística):\n",
      "              precision    recall  f1-score   support\n",
      "\n",
      "           1       0.83      0.88      0.85        83\n",
      "           2       0.95      0.76      0.84        95\n",
      "           3       0.94      0.97      0.95        87\n",
      "           4       0.80      0.91      0.85        92\n",
      "           5       0.99      0.99      0.99       106\n",
      "           6       0.98      0.96      0.97        83\n",
      "\n",
      "    accuracy                           0.91       546\n",
      "   macro avg       0.91      0.91      0.91       546\n",
      "weighted avg       0.92      0.91      0.91       546\n",
      "\n",
      "Accuracy (Naive Bayes): 0.8791208791208791\n",
      "\n",
      "Reporte de Clasificación (Naive Bayes):\n",
      "              precision    recall  f1-score   support\n",
      "\n",
      "           1       0.92      0.73      0.82        83\n",
      "           2       0.91      0.77      0.83        95\n",
      "           3       0.79      0.94      0.86        87\n",
      "           4       0.81      0.85      0.83        92\n",
      "           5       0.99      0.99      0.99       106\n",
      "           6       0.86      0.98      0.92        83\n",
      "\n",
      "    accuracy                           0.88       546\n",
      "   macro avg       0.88      0.88      0.87       546\n",
      "weighted avg       0.89      0.88      0.88       546\n",
      "\n"
     ]
    }
   ],
   "source": [
    "from sklearn.model_selection import train_test_split\n",
    "\n",
    "X = data['text']  \n",
    "y = data['class']\n",
    "\n",
    "X_train, X_test, y_train, y_test = train_test_split(X, y, test_size=0.2, random_state=42)\n",
    "\n",
    "vectorizacion = TfidfVectorizer()\n",
    "X_train_tfidf = vectorizacion.fit_transform(X_train)\n",
    "X_test_tfidf = vectorizacion.transform(X_test)\n",
    "\n",
    "# Regresión Logística\n",
    "clasificador = LogisticRegression()\n",
    "clasificador.fit(X_train_tfidf, y_train)\n",
    "\n",
    "y_pred = clasificador.predict(X_test_tfidf)\n",
    "\n",
    "accuracy = accuracy_score(y_test, y_pred)\n",
    "print(\"Accuracy (Regresión Logística):\", accuracy)\n",
    "\n",
    "print(\"\\nReporte de Clasificación (Regresión Logística):\")\n",
    "print(classification_report(y_test, y_pred))\n",
    "\n",
    "# Naive Bayes\n",
    "nb_clasificador = MultinomialNB()\n",
    "nb_clasificador.fit(X_train_tfidf, y_train)\n",
    "\n",
    "y_pred_nb = nb_clasificador.predict(X_test_tfidf)\n",
    "\n",
    "accuracy_nb = accuracy_score(y_test, y_pred_nb)\n",
    "print(\"Accuracy (Naive Bayes):\", accuracy_nb)\n",
    "\n",
    "print(\"\\nReporte de Clasificación (Naive Bayes):\")\n",
    "print(classification_report(y_test, y_pred_nb))"
   ]
  }
 ],
 "metadata": {
  "kernelspec": {
   "display_name": "Python 3",
   "language": "python",
   "name": "python3"
  },
  "language_info": {
   "codemirror_mode": {
    "name": "ipython",
    "version": 3
   },
   "file_extension": ".py",
   "mimetype": "text/x-python",
   "name": "python",
   "nbconvert_exporter": "python",
   "pygments_lexer": "ipython3",
   "version": "3.10.12"
  }
 },
 "nbformat": 4,
 "nbformat_minor": 2
}
